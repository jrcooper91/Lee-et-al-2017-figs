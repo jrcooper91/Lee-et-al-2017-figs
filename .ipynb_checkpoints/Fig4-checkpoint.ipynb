{
 "cells": [
  {
   "cell_type": "code",
   "execution_count": 44,
   "metadata": {},
   "outputs": [],
   "source": [
    "import pyfits \n",
    "import matplotlib.pyplot as plt\n",
    "import numpy as np"
   ]
  },
  {
   "cell_type": "code",
   "execution_count": 45,
   "metadata": {},
   "outputs": [
    {
     "name": "stdout",
     "output_type": "stream",
     "text": [
      "Filename: /Users/jennifercooper/Downloads/for_jenn/uds-18/1D/FITS/uds-18-G141_30737.1D.fits\n",
      "No.    Name         Type      Cards   Dimensions   Format\n",
      "0    PRIMARY     PrimaryHDU       4   ()              \n",
      "1                BinTableHDU     35   312R x 7C    [D, D, D, D, D, D, D]   \n"
     ]
    }
   ],
   "source": [
    "pyfits.info(\"/Users/jennifercooper/Downloads/for_jenn/uds-18/1D/FITS/uds-18-G141_30737.1D.fits\")"
   ]
  },
  {
   "cell_type": "code",
   "execution_count": 46,
   "metadata": {},
   "outputs": [
    {
     "data": {
      "text/plain": [
       "SIMPLE  =                    T / conforms to FITS standard                      \n",
       "BITPIX  =                    8 / array data type                                \n",
       "NAXIS   =                    0 / number of array dimensions                     \n",
       "EXTEND  =                    T                                                  "
      ]
     },
     "execution_count": 46,
     "metadata": {},
     "output_type": "execute_result"
    }
   ],
   "source": [
    "header_primary = pyfits.getheader(\"/Users/jennifercooper/Downloads/for_jenn/uds-18/1D/FITS/uds-18-G141_30737.1D.fits\")\n",
    "header_primary"
   ]
  },
  {
   "cell_type": "code",
   "execution_count": 47,
   "metadata": {},
   "outputs": [
    {
     "data": {
      "text/plain": [
       "'BINTABLE'"
      ]
     },
     "execution_count": 47,
     "metadata": {},
     "output_type": "execute_result"
    }
   ],
   "source": [
    "pyfits.getval(\"/Users/jennifercooper/Downloads/for_jenn/uds-18/1D/FITS/uds-18-G141_30737.1D.fits\",'bitpix',1)\n",
    "pyfits.getval(\"/Users/jennifercooper/Downloads/for_jenn/uds-18/1D/FITS/uds-18-G141_30737.1D.fits\",'xtension',1)"
   ]
  },
  {
   "cell_type": "code",
   "execution_count": 48,
   "metadata": {},
   "outputs": [
    {
     "data": {
      "text/plain": [
       "pyfits.fitsrec.FITS_rec"
      ]
     },
     "execution_count": 48,
     "metadata": {},
     "output_type": "execute_result"
    }
   ],
   "source": [
    "data_table, header_table = pyfits.getdata(\"/Users/jennifercooper/Downloads/for_jenn/uds-18/1D/FITS/uds-18-G141_30737.1D.fits\",1, header=True)\n",
    "type(data_cube)"
   ]
  },
  {
   "cell_type": "code",
   "execution_count": 49,
   "metadata": {},
   "outputs": [
    {
     "data": {
      "text/plain": [
       "['wave', 'flux', 'error', 'contam', 'trace', 'etrace', 'sensitivity']"
      ]
     },
     "execution_count": 49,
     "metadata": {},
     "output_type": "execute_result"
    }
   ],
   "source": [
    "data_table.names"
   ]
  },
  {
   "cell_type": "code",
   "execution_count": 50,
   "metadata": {},
   "outputs": [
    {
     "data": {
      "text/plain": [
       "array([ 10204.90709806,  10227.72591608,  10250.54612423,  10273.3677225 ,\n",
       "        10296.1907109 ,  10319.01508943,  10341.84085808,  10364.66801686,\n",
       "        10387.49656576,  10410.32650479,  10433.15783394,  10455.99055322,\n",
       "        10478.82466263,  10501.66016216,  10524.49705182,  10547.3353316 ,\n",
       "        10570.17500151,  10593.01606154,  10615.8585117 ,  10638.70235199,\n",
       "        10661.5475824 ,  10684.39420294,  10707.2422136 ,  10730.09161439,\n",
       "        10752.9424053 ,  10775.79458634,  10798.64815751,  10821.5031188 ,\n",
       "        10844.35947021,  10867.21721176,  10890.07634343,  10912.93686522,\n",
       "        10935.79877714,  10958.66207918,  10981.52677136,  11004.39285365,\n",
       "        11027.26032607,  11050.12918862,  11072.9994413 ,  11095.8710841 ,\n",
       "        11118.74411702,  11141.61854007,  11164.49435325,  11187.37155655,\n",
       "        11210.25014998,  11233.13013353,  11256.01150721,  11278.89427102,\n",
       "        11301.77842495,  11324.66396901,  11347.55090319,  11370.4392275 ,\n",
       "        11393.32894193,  11416.22004649,  11439.11254118,  11462.00642599,\n",
       "        11484.90170092,  11507.79836599,  11530.69642117,  11553.59586649,\n",
       "        11576.49670193,  11599.39892749,  11622.30254318,  11645.207549  ,\n",
       "        11668.11394494,  11691.02173101,  11713.9309072 ,  11736.84147352,\n",
       "        11759.75342997,  11782.66677654,  11805.58151323,  11828.49764006,\n",
       "        11851.415157  ,  11874.33406408,  11897.25436128,  11920.1760486 ,\n",
       "        11943.09912605,  11966.02359363,  11988.94945133,  12011.87669916,\n",
       "        12034.80533711,  12057.73536519,  12080.6667834 ,  12103.59959173,\n",
       "        12126.53379018,  12149.46937877,  12172.40635747,  12195.34472631,\n",
       "        12218.28448527,  12241.22563435,  12264.16817356,  12287.1121029 ,\n",
       "        12310.05742236,  12333.00413195,  12355.95223166,  12378.9017215 ,\n",
       "        12401.85260146,  12424.80487156,  12447.75853177,  12470.71358211,\n",
       "        12493.67002258,  12516.62785317,  12539.58707389,  12562.54768474,\n",
       "        12585.50968571,  12608.4730768 ,  12631.43785803,  12654.40402937,\n",
       "        12677.37159085,  12700.34054245,  12723.31088417,  12746.28261602,\n",
       "        12769.255738  ,  12792.2302501 ,  12815.20615233,  12838.18344468,\n",
       "        12861.16212716,  12884.14219976,  12907.12366249,  12930.10651535,\n",
       "        12953.09075833,  12976.07639144,  12999.06341467,  13022.05182803,\n",
       "        13045.04163152,  13068.03282513,  13091.02540886,  13114.01938272,\n",
       "        13137.01474671,  13160.01150082,  13183.00964506,  13206.00917943,\n",
       "        13229.01010392,  13252.01241853,  13275.01612327,  13298.02121814,\n",
       "        13321.02770313,  13344.03557825,  13367.0448435 ,  13390.05549887,\n",
       "        13413.06754436,  13436.08097998,  13459.09580573,  13482.1120216 ,\n",
       "        13505.1296276 ,  13528.14862373,  13551.16900998,  13574.19078635,\n",
       "        13597.21395286,  13620.23850948,  13643.26445624,  13666.29179311,\n",
       "        13689.32052012,  13712.35063725,  13735.3821445 ,  13758.41504188,\n",
       "        13781.44932939,  13804.48500702,  13827.52207478,  13850.56053267,\n",
       "        13873.60038068,  13896.64161881,  13919.68424707,  13942.72826546,\n",
       "        13965.77367397,  13988.82047261,  14011.86866138,  14034.91824027,\n",
       "        14057.96920928,  14081.02156842,  14104.07531769,  14127.13045708,\n",
       "        14150.1869866 ,  14173.24490624,  14196.30421601,  14219.36491591,\n",
       "        14242.42700593,  14265.49048608,  14288.55535635,  14311.62161675,\n",
       "        14334.68926727,  14357.75830792,  14380.8287387 ,  14403.9005596 ,\n",
       "        14426.97377063,  14450.04837178,  14473.12436306,  14496.20174446,\n",
       "        14519.28051599,  14542.36067765,  14565.44222943,  14588.52517133,\n",
       "        14611.60950337,  14634.69522552,  14657.78233781,  14680.87084022,\n",
       "        14703.96073275,  14727.05201541,  14750.1446882 ,  14773.23875111,\n",
       "        14796.33420415,  14819.43104731,  14842.5292806 ,  14865.62890402,\n",
       "        14888.72991756,  14911.83232123,  14934.93611502,  14958.04129894,\n",
       "        14981.14787298,  15004.25583715,  15027.36519145,  15050.47593587,\n",
       "        15073.58807041,  15096.70159508,  15119.81650988,  15142.93281481,\n",
       "        15166.05050986,  15189.16959503,  15212.29007033,  15235.41193576,\n",
       "        15258.53519131,  15281.65983699,  15304.78587279,  15327.91329872,\n",
       "        15351.04211478,  15374.17232096,  15397.30391726,  15420.4369037 ,\n",
       "        15443.57128025,  15466.70704694,  15489.84420375,  15512.98275068,\n",
       "        15536.12268774,  15559.26401493,  15582.40673224,  15605.55083968,\n",
       "        15628.69633724,  15651.84322493,  15674.99150274,  15698.14117069,\n",
       "        15721.29222875,  15744.44467694,  15767.59851526,  15790.7537437 ,\n",
       "        15813.91036227,  15837.06837097,  15860.22776979,  15883.38855874,\n",
       "        15906.55073781,  15929.714307  ,  15952.87926633,  15976.04561578,\n",
       "        15999.21335535,  16022.38248505,  16045.55300488,  16068.72491483,\n",
       "        16091.89821491,  16115.07290511,  16138.24898544,  16161.42645589,\n",
       "        16184.60531647,  16207.78556718,  16230.96720801,  16254.15023897,\n",
       "        16277.33466005,  16300.52047126,  16323.7076726 ,  16346.89626406,\n",
       "        16370.08624564,  16393.27761735,  16416.47037919,  16439.66453116,\n",
       "        16462.86007324,  16486.05700546,  16509.2553278 ,  16532.45504026,\n",
       "        16555.65614286,  16578.85863557,  16602.06251842,  16625.26779139,\n",
       "        16648.47445448,  16671.6825077 ,  16694.89195105,  16718.10278452,\n",
       "        16741.31500811,  16764.52862184,  16787.74362569,  16810.96001966,\n",
       "        16834.17780376,  16857.39697799,  16880.61754234,  16903.83949682,\n",
       "        16927.06284142,  16950.28757615,  16973.513701  ,  16996.74121598,\n",
       "        17019.97012109,  17043.20041632,  17066.43210168,  17089.66517716,\n",
       "        17112.89964277,  17136.1354985 ,  17159.37274436,  17182.61138035,\n",
       "        17205.85140646,  17229.0928227 ,  17252.33562906,  17275.57982555,\n",
       "        17298.82541216,  17322.0723889 ,  17345.32075577,  17368.57051276])"
      ]
     },
     "execution_count": 50,
     "metadata": {},
     "output_type": "execute_result"
    }
   ],
   "source": [
    "w = data_table.field('wave')\n",
    "f = data_table.field('flux')\n",
    "w"
   ]
  },
  {
   "cell_type": "code",
   "execution_count": 56,
   "metadata": {},
   "outputs": [
    {
     "data": {
      "image/png": "[encoded data removed]",
      "text/plain": [
       "<matplotlib.figure.Figure at 0x114d48b90>"
      ]
     },
     "metadata": {},
     "output_type": "display_data"
    }
   ],
   "source": [
    "plt.figure()\n",
    "#plt.xlim(3000, 6850)\n",
    "#plt.ylim(0, 0.5)\n",
    "plt.xlabel('Angstroms')\n",
    "plt.ylabel('F$_\\lambda$')\n",
    "plt.plot(w,f)\n",
    "plt.show()"
   ]
  },
  {
   "cell_type": "code",
   "execution_count": null,
   "metadata": {
    "collapsed": true
   },
   "outputs": [],
   "source": []
  }
 ],
 "metadata": {
  "kernelspec": {
   "display_name": "Python 2",
   "language": "python",
   "name": "python2"
  },
  "language_info": {
   "codemirror_mode": {
    "name": "ipython",
    "version": 2
   },
   "file_extension": ".py",
   "mimetype": "text/x-python",
   "name": "python",
   "nbconvert_exporter": "python",
   "pygments_lexer": "ipython2",
   "version": "2.7.13"
  }
 },
 "nbformat": 4,
 "nbformat_minor": 2
}
