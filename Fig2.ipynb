{
 "cells": [
  {
   "cell_type": "code",
   "execution_count": 4,
   "metadata": {
    "collapsed": true
   },
   "outputs": [],
   "source": [
    "import pyfits \n",
    "import matplotlib.pyplot as plt\n",
    "import numpy as np"
   ]
  },
  {
   "cell_type": "code",
   "execution_count": 10,
   "metadata": {},
   "outputs": [
    {
     "name": "stdout",
     "output_type": "stream",
     "text": [
      "Filename: /Users/jennifercooper/Downloads/for_jenn/uds-18/ZFIT/PZ/uds-18-G141_30737.new_zfit.pz.fits\n",
      "No.    Name         Type      Cards   Dimensions   Format\n",
      "0    PRIMARY     PrimaryHDU       6   ()              \n",
      "1    ZGRID0      ImageHDU         7   (322,)       float64   \n",
      "2    LNP_PHOT_0  ImageHDU         7   (322,)       float64   \n",
      "3    LNP_SPEC_0  ImageHDU         7   (322,)       float64   \n",
      "4    ZGRID1      ImageHDU         7   (236,)       float64   \n",
      "5    LNP_BOTH_1  ImageHDU         7   (236,)       float64   \n"
     ]
    },
    {
     "data": {
      "text/plain": [
       "XTENSION= 'IMAGE   '           / Image extension                                \n",
       "BITPIX  =                  -64 / array data type                                \n",
       "NAXIS   =                    1 / number of array dimensions                     \n",
       "NAXIS1  =                  236                                                  \n",
       "PCOUNT  =                    0 / number of parameters                           \n",
       "GCOUNT  =                    1 / number of groups                               \n",
       "EXTNAME = 'LNP_BOTH_1'         / extension name                                 "
      ]
     },
     "execution_count": 10,
     "metadata": {},
     "output_type": "execute_result"
    }
   ],
   "source": [
    "a = '/Users/jennifercooper/Downloads/for_jenn/uds-18/ZFIT/PZ/uds-18-G141_30737.new_zfit.pz.fits'\n",
    "pyfits.info(a)\n",
    "header_primary = pyfits.getheader(a)\n",
    "header_primary\n",
    "pyfits.getval(a,'bitpix',1)\n",
    "pyfits.getval(a,'xtension',1)\n",
    "data_table, header_table = pyfits.getdata(a,5, header=True)\n",
    "header_table"
   ]
  },
  {
   "cell_type": "code",
   "execution_count": null,
   "metadata": {
    "collapsed": true
   },
   "outputs": [],
   "source": []
  }
 ],
 "metadata": {
  "kernelspec": {
   "display_name": "Python 2",
   "language": "python",
   "name": "python2"
  },
  "language_info": {
   "codemirror_mode": {
    "name": "ipython",
    "version": 2
   },
   "file_extension": ".py",
   "mimetype": "text/x-python",
   "name": "python",
   "nbconvert_exporter": "python",
   "pygments_lexer": "ipython2",
   "version": "2.7.13"
  }
 },
 "nbformat": 4,
 "nbformat_minor": 2
}
