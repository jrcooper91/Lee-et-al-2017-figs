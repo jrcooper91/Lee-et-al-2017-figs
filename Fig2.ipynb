{
 "cells": [
  {
   "cell_type": "code",
   "execution_count": 53,
   "metadata": {
    "collapsed": true
   },
   "outputs": [],
   "source": [
    "from astropy.io import fits\n",
    "import matplotlib.pyplot as plt\n",
    "import numpy as np\n",
    "from matplotlib.patches import Rectangle\n",
    "import matplotlib.gridspec as gridspec\n",
    "import math"
   ]
  },
  {
   "cell_type": "code",
   "execution_count": 54,
   "metadata": {},
   "outputs": [
    {
     "name": "stdout",
     "output_type": "stream",
     "text": [
      "Filename: /Users/jennifercooper/Downloads/for_jenn/uds-18/ZFIT/PZ/uds-18-G141_30737.new_zfit.pz.fits\n",
      "No.    Name         Type      Cards   Dimensions   Format\n",
      "  0  PRIMARY     PrimaryHDU       6   ()      \n",
      "  1  ZGRID0      ImageHDU         7   (322,)   float64   \n",
      "  2  LNP_PHOT_0  ImageHDU         7   (322,)   float64   \n",
      "  3  LNP_SPEC_0  ImageHDU         7   (322,)   float64   \n",
      "  4  ZGRID1      ImageHDU         7   (236,)   float64   \n",
      "  5  LNP_BOTH_1  ImageHDU         7   (236,)   float64   \n",
      "Filename: /Users/jennifercooper/Downloads/for_jenn/g102/IRC0218A_JOIN_30737.multifit.pz.fits\n",
      "No.    Name         Type      Cards   Dimensions   Format\n",
      "  0  PRIMARY     PrimaryHDU       5   ()      \n",
      "  1  ZGRID1      ImageHDU         7   (157,)   float64   \n",
      "  2  LNP_1       ImageHDU         7   (157,)   float64   \n",
      "  3  ZGRID2      ImageHDU         7   (134,)   float64   \n",
      "  4  LNP_2       ImageHDU         7   (134,)   float64   \n"
     ]
    }
   ],
   "source": [
    "a = '/Users/jennifercooper/Downloads/for_jenn/uds-18/ZFIT/PZ/uds-18-G141_30737.new_zfit.pz.fits'\n",
    "b = '/Users/jennifercooper/Downloads/for_jenn/g102/IRC0218A_JOIN_30737.multifit.pz.fits'\n",
    "image1=fits.open(a)\n",
    "image2=fits.open(b)\n",
    "image1.info()\n",
    "image2.info()\n",
    "joint_30737 = image1[1].data\n",
    "phot_30737 = image1[2].data\n",
    "phot_30737 = np.exp(phot_30737)\n",
    "phot_30737 = 2*phot_30737/(np.sum(phot_30737))\n",
    "g30737_zfine = image2[3].data\n",
    "g30737_zjoin = image2[4].data\n",
    "g30737_zjoin = g30737_zjoin/np.sum(g30737_zjoin)"
   ]
  },
  {
   "cell_type": "code",
   "execution_count": 55,
   "metadata": {},
   "outputs": [
    {
     "name": "stdout",
     "output_type": "stream",
     "text": [
      "Filename: /Users/jennifercooper/Downloads/for_jenn/uds-18/ZFIT/PZ/uds-18-G141_33092.new_zfit.pz.fits\n",
      "No.    Name         Type      Cards   Dimensions   Format\n",
      "  0  PRIMARY     PrimaryHDU       6   ()      \n",
      "  1  ZGRID0      ImageHDU         7   (322,)   float64   \n",
      "  2  LNP_PHOT_0  ImageHDU         7   (322,)   float64   \n",
      "  3  LNP_SPEC_0  ImageHDU         7   (322,)   float64   \n",
      "  4  ZGRID1      ImageHDU         7   (306,)   float64   \n",
      "  5  LNP_BOTH_1  ImageHDU         7   (306,)   float64   \n",
      "Filename: /Users/jennifercooper/Downloads/for_jenn/g102/IRC0218A_JOIN_33092.multifit.pz.fits\n",
      "No.    Name         Type      Cards   Dimensions   Format\n",
      "  0  PRIMARY     PrimaryHDU       5   ()      \n",
      "  1  ZGRID1      ImageHDU         7   (157,)   float64   \n",
      "  2  LNP_1       ImageHDU         7   (157,)   float64   \n",
      "  3  ZGRID2      ImageHDU         7   (134,)   float64   \n",
      "  4  LNP_2       ImageHDU         7   (134,)   float64   \n"
     ]
    }
   ],
   "source": [
    "a = '/Users/jennifercooper/Downloads/for_jenn/uds-18/ZFIT/PZ/uds-18-G141_33092.new_zfit.pz.fits'\n",
    "b = '/Users/jennifercooper/Downloads/for_jenn/g102/IRC0218A_JOIN_33092.multifit.pz.fits'\n",
    "image1=fits.open(a)\n",
    "image2=fits.open(b)\n",
    "image1.info()\n",
    "image2.info()\n",
    "joint_33092 = image1[1].data\n",
    "phot_33092 = image1[2].data\n",
    "phot_33092 = np.exp(phot_33092)\n",
    "phot_33092 = 2*phot_33092/(np.sum(phot_33092))\n",
    "g33092_zfine = image2[3].data\n",
    "g33092_zjoin = image2[4].data\n",
    "g33092_zjoin = g33092_zjoin/np.sum(g33092_zjoin)"
   ]
  },
  {
   "cell_type": "code",
   "execution_count": 56,
   "metadata": {},
   "outputs": [
    {
     "name": "stdout",
     "output_type": "stream",
     "text": [
      "Filename: /Users/jennifercooper/Downloads/for_jenn/uds-18/ZFIT/PZ/uds-18-G141_30545.new_zfit.pz.fits\n",
      "No.    Name         Type      Cards   Dimensions   Format\n",
      "  0  PRIMARY     PrimaryHDU       6   ()      \n",
      "  1  ZGRID0      ImageHDU         7   (322,)   float64   \n",
      "  2  LNP_PHOT_0  ImageHDU         7   (322,)   float64   \n",
      "  3  LNP_SPEC_0  ImageHDU         7   (322,)   float64   \n",
      "  4  ZGRID1      ImageHDU         7   (234,)   float64   \n",
      "  5  LNP_BOTH_1  ImageHDU         7   (234,)   float64   \n",
      "Filename: /Users/jennifercooper/Downloads/for_jenn/g102/IRC0218A_JOIN_30545.multifit.pz.fits\n",
      "No.    Name         Type      Cards   Dimensions   Format\n",
      "  0  PRIMARY     PrimaryHDU       5   ()      \n",
      "  1  ZGRID1      ImageHDU         7   (157,)   float64   \n",
      "  2  LNP_1       ImageHDU         7   (157,)   float64   \n",
      "  3  ZGRID2      ImageHDU         7   (134,)   float64   \n",
      "  4  LNP_2       ImageHDU         7   (134,)   float64   \n"
     ]
    }
   ],
   "source": [
    "a = '/Users/jennifercooper/Downloads/for_jenn/uds-18/ZFIT/PZ/uds-18-G141_30545.new_zfit.pz.fits'\n",
    "b = '/Users/jennifercooper/Downloads/for_jenn/g102/IRC0218A_JOIN_30545.multifit.pz.fits'\n",
    "image1=fits.open(a)\n",
    "image2=fits.open(b)\n",
    "image1.info()\n",
    "image2.info()\n",
    "joint_30545 = image1[1].data\n",
    "phot_30545 = image1[2].data\n",
    "phot_30545 = np.exp(phot_30545)\n",
    "phot_30545 = 2*phot_30545/(np.sum(phot_30545))\n",
    "g30545_zfine = image2[3].data\n",
    "g30545_zjoin = image2[4].data\n",
    "g30545_zjoin = g30545_zjoin/np.sum(g30545_zjoin)"
   ]
  },
  {
   "cell_type": "code",
   "execution_count": 67,
   "metadata": {},
   "outputs": [
    {
     "data": {
      "text/plain": [
       "<matplotlib.text.Text at 0x1106a2cd0>"
      ]
     },
     "execution_count": 67,
     "metadata": {},
     "output_type": "execute_result"
    }
   ],
   "source": [
    "g30737=plt.subplot(311)\n",
    "g30737.plot(joint_30737, phot_30737, color='DimGray', linestyle='-.', linewidth=3.5, label='Phot z')\n",
    "g30737.plot(g30737_zfine, g30737_zjoin, color='RoyalBlue', linewidth=3.5, label='Joint z')\n",
    "#g30737.set_xlabel(r'z', fontsize=16)\n",
    "#g30737.set_ylabel(r'Normalized P(z)', fontsize=16)\n",
    "g30737.set_xlim([1.57,1.8])\n",
    "g30737.text(1.75,0.1,'3D-HST 30737',fontsize=16,color='k')"
   ]
  },
  {
   "cell_type": "code",
   "execution_count": 68,
   "metadata": {},
   "outputs": [
    {
     "data": {
      "text/plain": [
       "<matplotlib.text.Text at 0x1106df610>"
      ]
     },
     "execution_count": 68,
     "metadata": {},
     "output_type": "execute_result"
    }
   ],
   "source": [
    "g33092=plt.subplot(312)\n",
    "g33092.plot(joint_33092, phot_33092, color='DimGray', linestyle='-.', linewidth=3.5, label='Phot z')\n",
    "g33092.plot(g33092_zfine, g33092_zjoin, color='RoyalBlue', linewidth=3.5, label='Joint z')\n",
    "#g33092.set_xlabel(r'z', fontsize=16)\n",
    "#g30737.set_ylabel(r'Normalized P(z)', fontsize=16)\n",
    "g33092.set_xlim([1.57,1.8])\n",
    "g33092.text(1.75,0.2,'3D-HST 33092',fontsize=16,color='k')"
   ]
  },
  {
   "cell_type": "code",
   "execution_count": 69,
   "metadata": {},
   "outputs": [
    {
     "data": {
      "image/png": "[encoded data removed]",
      "text/plain": [
       "<matplotlib.figure.Figure at 0x10fe021d0>"
      ]
     },
     "metadata": {},
     "output_type": "display_data"
    }
   ],
   "source": [
    "g30545=plt.subplot(313)\n",
    "g30545.plot(joint_30545, phot_30545, color='DimGray', linestyle='-.', linewidth=3.5, label='Phot z')\n",
    "g30545.plot(g30545_zfine, g30545_zjoin, color='RoyalBlue', linewidth=3.5, label='Joint z')\n",
    "g30545.set_xlabel(r'z', fontsize=16)\n",
    "g30545.set_ylabel(r'Normalized P(z)', fontsize=16)\n",
    "g30545.set_xlim([1.57,1.8])\n",
    "g30545.text(1.75,0.4,'3D-HST 30545',fontsize=16,color='k')\n",
    "plt.show()"
   ]
  },
  {
   "cell_type": "code",
   "execution_count": null,
   "metadata": {
    "collapsed": true
   },
   "outputs": [],
   "source": []
  }
 ],
 "metadata": {
  "kernelspec": {
   "display_name": "Python 2",
   "language": "python",
   "name": "python2"
  },
  "language_info": {
   "codemirror_mode": {
    "name": "ipython",
    "version": 2
   },
   "file_extension": ".py",
   "mimetype": "text/x-python",
   "name": "python",
   "nbconvert_exporter": "python",
   "pygments_lexer": "ipython2",
   "version": "2.7.13"
  }
 },
 "nbformat": 4,
 "nbformat_minor": 2
}
