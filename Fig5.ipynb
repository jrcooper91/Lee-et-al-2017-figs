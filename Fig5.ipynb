{
 "cells": [
  {
   "cell_type": "code",
   "execution_count": 17,
   "metadata": {
    "collapsed": true
   },
   "outputs": [],
   "source": [
    "import pyfits \n",
    "import matplotlib.pyplot as plt\n",
    "import numpy as np"
   ]
  },
  {
   "cell_type": "code",
   "execution_count": 18,
   "metadata": {
    "collapsed": true
   },
   "outputs": [],
   "source": [
    "f = open('/Users/jennifercooper/Downloads/for_jenn/fig5.txt', 'r')\n",
    "lines = f.readlines()[1:3] \n",
    "f.close()\n",
    "mass = []\n",
    "f = []\n",
    "erp = []\n",
    "ern = []\n",
    "for line in lines:\n",
    "    a = line.split()\n",
    "    mass.append(float(a[0]))\n",
    "    f.append(float(a[3]))\n",
    "    erp.append(float(a[4]))\n",
    "    ern.append(float(a[5]))\n",
    "\n",
    "\n"
   ]
  },
  {
   "cell_type": "code",
   "execution_count": 19,
   "metadata": {},
   "outputs": [
    {
     "data": {
      "text/plain": [
       "array([ 11.175,  10.525])"
      ]
     },
     "execution_count": 19,
     "metadata": {},
     "output_type": "execute_result"
    }
   ],
   "source": [
    "mass = np.array(mass)\n",
    "f = np.array(f)\n",
    "erp = np.array(erp)\n",
    "ern = np.array(ern)\n",
    "mass"
   ]
  },
  {
   "cell_type": "code",
   "execution_count": 20,
   "metadata": {
    "collapsed": true
   },
   "outputs": [],
   "source": [
    "f1 = open('/Users/jennifercooper/Downloads/for_jenn/fig5.txt', 'r')\n",
    "lines = f1.readlines()[4:] \n",
    "f1.close()\n",
    "mass1 = []\n",
    "f1 = []\n",
    "erp1 = []\n",
    "ern1 = []\n",
    "for line in lines:\n",
    "    a = line.split()\n",
    "    mass1.append(float(a[0]))\n",
    "    f1.append(float(a[3]))\n",
    "    erp1.append(float(a[4]))\n",
    "    ern1.append(float(a[5]))\n",
    "\n",
    "mass1 = np.array(mass1)\n",
    "f1 = np.array(f1)\n",
    "erp1 = np.array(erp1)\n",
    "ern1 = np.array(ern1)"
   ]
  },
  {
   "cell_type": "code",
   "execution_count": 28,
   "metadata": {},
   "outputs": [
    {
     "name": "stdout",
     "output_type": "stream",
     "text": [
      "Figure 5\n"
     ]
    },
    {
     "data": {
      "image/png": "[encoded data removed]",
      "text/plain": [
       "<matplotlib.figure.Figure at 0x1122f87d0>"
      ]
     },
     "metadata": {},
     "output_type": "display_data"
    }
   ],
   "source": [
    "print 'Figure 5'\n",
    "plt.errorbar(mass,f,yerr=[ern,erp],color='red',fmt='-*',markersize=20)\n",
    "plt.errorbar(mass1,f1,yerr=[ern1,erp1],color='grey',fmt='-s',markersize=10)\n",
    "plt.xlabel(r'$log(M/M)$', fontsize=14)\n",
    "plt.ylabel(r'$Quiescent Fraction$')\n",
    "plt.ylim(0,1.1)\n",
    "plt.xlim(10.2,11.4)\n",
    "plt.plot([0.0,12],[1,1.],color='k',linestyle='--',linewidth=2,zorder=7)\n",
    "plt.show()\n"
   ]
  },
  {
   "cell_type": "code",
   "execution_count": null,
   "metadata": {
    "collapsed": true
   },
   "outputs": [],
   "source": []
  },
  {
   "cell_type": "code",
   "execution_count": null,
   "metadata": {
    "collapsed": true
   },
   "outputs": [],
   "source": []
  }
 ],
 "metadata": {
  "kernelspec": {
   "display_name": "Python 2",
   "language": "python",
   "name": "python2"
  },
  "language_info": {
   "codemirror_mode": {
    "name": "ipython",
    "version": 2
   },
   "file_extension": ".py",
   "mimetype": "text/x-python",
   "name": "python",
   "nbconvert_exporter": "python",
   "pygments_lexer": "ipython2",
   "version": "2.7.13"
  }
 },
 "nbformat": 4,
 "nbformat_minor": 2
}
